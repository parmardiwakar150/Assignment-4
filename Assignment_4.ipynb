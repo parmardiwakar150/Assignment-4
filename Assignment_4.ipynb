{
 "cells": [
  {
   "cell_type": "code",
   "execution_count": 125,
   "metadata": {},
   "outputs": [],
   "source": [
    "# Importing the libraries\n",
    "import numpy as np\n",
    "import matplotlib.pyplot as plt\n",
    "import idx2numpy"
   ]
  },
  {
   "cell_type": "code",
   "execution_count": 126,
   "metadata": {},
   "outputs": [],
   "source": [
    "train_images = idx2numpy.convert_from_file('train-images-idx3-ubyte')\n",
    "train_labels = idx2numpy.convert_from_file('train-labels-idx1-ubyte')\n",
    "test_images = idx2numpy.convert_from_file('t10k-images-idx3-ubyte')\n",
    "test_labels = idx2numpy.convert_from_file('t10k-labels-idx1-ubyte')"
   ]
  },
  {
   "cell_type": "code",
   "execution_count": 127,
   "metadata": {},
   "outputs": [
    {
     "data": {
      "image/png": "[encoded data removed]",
      "text/plain": [
       "<Figure size 432x288 with 1 Axes>"
      ]
     },
     "metadata": {
      "needs_background": "light"
     },
     "output_type": "display_data"
    }
   ],
   "source": [
    "plt.imshow(train_images[0])\n",
    "plt.title(str(train_labels[0]))\n",
    "plt.show()"
   ]
  },
  {
   "cell_type": "code",
   "execution_count": 136,
   "metadata": {},
   "outputs": [],
   "source": [
    "train_images = train_images.reshape(train_images.shape[0], -1) / 255\n",
    "test_images = test_images.reshape(test_images.shape[0], -1) / 255"
   ]
  },
  {
   "cell_type": "code",
   "execution_count": 151,
   "metadata": {},
   "outputs": [],
   "source": [
    "X = train_images\n",
    "y = train_labels"
   ]
  },
  {
   "cell_type": "code",
   "execution_count": 152,
   "metadata": {},
   "outputs": [],
   "source": [
    "# Defining the architecture of neural Network\n",
    "n_x = train_images.shape[1]\n",
    "n_h = 256\n",
    "n_y = 10"
   ]
  },
  {
   "cell_type": "code",
   "execution_count": 153,
   "metadata": {},
   "outputs": [],
   "source": [
    "# Initializing the pararmeters\n",
    "W1 = 0.01 * np.random.randn(n_x, n_h)\n",
    "b1 = np.ones((1, n_h)) * 0.01\n",
    "W2 = 0.01 * np.random.randn(n_h, n_y)\n",
    "b2 = np.ones((1, n_y)) * 0.01"
   ]
  },
  {
   "cell_type": "code",
   "execution_count": 154,
   "metadata": {},
   "outputs": [],
   "source": [
    "# ReLU Activation function\n",
    "def ReLU(x):\n",
    "    return np.maximum(x, 0)"
   ]
  },
  {
   "cell_type": "code",
   "execution_count": 155,
   "metadata": {},
   "outputs": [],
   "source": [
    "# Forward propagation\n",
    "Z1 = X.dot(W1) + b1\n",
    "A1 = ReLU(Z1)\n",
    "Z2 = A1.dot(W2) + b2\n",
    "yhat = np.exp(Z2) / np.sum(np.exp(Z2), axis=1, keepdims=True)"
   ]
  },
  {
   "cell_type": "code",
   "execution_count": 156,
   "metadata": {},
   "outputs": [],
   "source": [
    "m = X.shape[0]"
   ]
  },
  {
   "cell_type": "code",
   "execution_count": 157,
   "metadata": {},
   "outputs": [],
   "source": [
    "# Cross Entropy Loss\n",
    "loss = np.mean(-np.log(yhat[range(m), y]))"
   ]
  },
  {
   "cell_type": "code",
   "execution_count": 158,
   "metadata": {},
   "outputs": [
    {
     "data": {
      "text/plain": [
       "2.3034590503142574"
      ]
     },
     "execution_count": 158,
     "metadata": {},
     "output_type": "execute_result"
    }
   ],
   "source": [
    "loss"
   ]
  },
  {
   "cell_type": "code",
   "execution_count": 159,
   "metadata": {},
   "outputs": [],
   "source": [
    "# Backpropagation\n",
    "dZ2 = yhat\n",
    "dZ2[range(m),y] -= 1\n",
    "dZ2 = dZ2 / m\n",
    "dW2 = A1.T.dot(dZ2)\n",
    "db2 = np.sum(dZ2, axis=0, keepdims=True)\n",
    "dZ1 = dZ2.dot(W2.T)\n",
    "dZ1[dZ1 <= 0] = 0\n",
    "dW1 = X.T.dot(dZ1)\n",
    "db1 = np.sum(dZ1, axis=0, keepdims=True)"
   ]
  },
  {
   "cell_type": "code",
   "execution_count": null,
   "metadata": {},
   "outputs": [
    {
     "name": "stdout",
     "output_type": "stream",
     "text": [
      "loss after 0 epoch: 0.1887693189820623\n",
      "loss after 1 epoch: 0.1856437588143313\n",
      "loss after 2 epoch: 0.18250084980982942\n",
      "loss after 3 epoch: 0.17910999808684672\n",
      "loss after 4 epoch: 0.17631339488806966\n",
      "loss after 5 epoch: 0.17360509224814435\n",
      "loss after 6 epoch: 0.17114551391130298\n",
      "loss after 7 epoch: 0.16806526390281395\n",
      "loss after 8 epoch: 0.16570056515776374\n",
      "loss after 9 epoch: 0.16344769185306168\n",
      "loss after 10 epoch: 0.16089488969691737\n",
      "loss after 11 epoch: 0.15887450009603754\n",
      "loss after 12 epoch: 0.1564820089552316\n",
      "loss after 13 epoch: 0.15464686936663496\n",
      "loss after 14 epoch: 0.15304217911833026\n",
      "loss after 15 epoch: 0.15102925293551644\n",
      "loss after 16 epoch: 0.14947899613213586\n",
      "loss after 17 epoch: 0.14759920792163683\n",
      "loss after 18 epoch: 0.14580794934559194\n",
      "loss after 19 epoch: 0.14388545656019316\n",
      "loss after 20 epoch: 0.14266830377650014\n",
      "loss after 21 epoch: 0.140723086566026\n",
      "loss after 22 epoch: 0.1393402271874266\n",
      "loss after 23 epoch: 0.13807727430986588\n",
      "loss after 24 epoch: 0.1364621962593528\n",
      "loss after 25 epoch: 0.13530249226419408\n",
      "loss after 26 epoch: 0.13372377823681725\n",
      "loss after 27 epoch: 0.1323225294169851\n",
      "loss after 28 epoch: 0.1309267485898321\n",
      "loss after 29 epoch: 0.12997194166799222\n",
      "loss after 30 epoch: 0.12906113142751932\n",
      "loss after 31 epoch: 0.12765679959902113\n",
      "loss after 32 epoch: 0.12630812102934402\n",
      "loss after 33 epoch: 0.12524666240177895\n",
      "loss after 34 epoch: 0.12435932537102372\n",
      "loss after 35 epoch: 0.12305011776666752\n"
     ]
    }
   ],
   "source": [
    "# Update the paramteres\n",
    "batch_size = 64\n",
    "n_epochs = 400\n",
    "learning_rate = 1e-2\n",
    "train_loss = []\n",
    "test_loss = []\n",
    "test_acc = []\n",
    "train_acc = []\n",
    "keep_prob = 0.7\n",
    "number_of_batches = m // batch_size\n",
    "for epoch in range(n_epochs):\n",
    "    loss = 0.0\n",
    "    correct_cnt = 0\n",
    "    for i in range(0, m - m % batch_size, batch_size):\n",
    "        X = train_images[i: i + batch_size]\n",
    "        y = train_labels[i: i + batch_size]\n",
    "        # Forward propagation\n",
    "        Z1 = X.dot(W1) + b1\n",
    "        A1 = np.tanh(Z1)\n",
    "        # DropOut\n",
    "        dropout_mask = np.random.uniform(size=A1.shape)\n",
    "        dropout_mask = dropout_mask < keep_prob\n",
    "        A1 = A1 * dropout_mask\n",
    "        A1 /= keep_prob\n",
    "        Z2 = A1.dot(W2) + b2\n",
    "        yhat = np.exp(Z2) / np.sum(np.exp(Z2), axis=1, keepdims=True)\n",
    "        # Cross Entropy Loss\n",
    "        loss += np.mean(-np.log(yhat[range(X.shape[0]), y]))\n",
    "        correct_cnt += np.sum(np.argmax(yhat, axis=1) == y)\n",
    "        # Backpropagation\n",
    "        dZ2 = yhat\n",
    "        dZ2[range(i % batch_size, (i % batch_size + batch_size)), y] -= 1\n",
    "        dZ2 = dZ2 / batch_size\n",
    "        dW2 = A1.T.dot(dZ2)\n",
    "        db2 = np.sum(dZ2, axis=0, keepdims=True)\n",
    "        dZ1 = dZ2.dot(W2.T) * (1 - A1 ** 2)\n",
    "        dZ1 = dZ1 * dropout_mask\n",
    "        #dZ1[dZ1 <= 0] = 0\n",
    "        dW1 = X.T.dot(dZ1)\n",
    "        db1 = np.sum(dZ1, axis=0, keepdims=True)\n",
    "        # Update\n",
    "        W2 -= learning_rate * dW2\n",
    "        b2 -= learning_rate * db2\n",
    "        W1 -= learning_rate * dW1\n",
    "        b1 -= learning_rate * db1\n",
    "    loss = loss / number_of_batches\n",
    "    train_acc.append(correct_cnt / m)\n",
    "    train_loss.append(loss)\n",
    "    X = test_images\n",
    "    Z1 = X.dot(W1) + b1\n",
    "    A1 = np.tanh(Z1)\n",
    "    Z2 = A1.dot(W2) + b2\n",
    "    yhat = np.exp(Z2) / np.sum(np.exp(Z2), axis=1, keepdims=True)\n",
    "    # Cross Entropy Loss\n",
    "    loss = np.mean(-np.log(yhat[range(X.shape[0]), test_labels]))\n",
    "    test_loss.append(loss)\n",
    "    test_correct_cnt = np.sum(np.argmax(yhat, axis=1) == test_labels)\n",
    "    test_acc.append(test_correct_cnt / len(test_labels))\n",
    "    print(f'loss after {epoch} epoch: {loss}')"
   ]
  },
  {
   "cell_type": "code",
   "execution_count": 165,
   "metadata": {},
   "outputs": [
    {
     "data": {
      "image/png": "[encoded data removed]",
      "text/plain": [
       "<Figure size 432x288 with 1 Axes>"
      ]
     },
     "metadata": {
      "needs_background": "light"
     },
     "output_type": "display_data"
    }
   ],
   "source": [
    "fig, ax = plt.subplots(1, 1)\n",
    "ax.plot(test_acc, label='Test Accuracy')\n",
    "ax.plot(train_acc, label='Train Accuracy')\n",
    "plt.legend()\n",
    "plt.show()"
   ]
  },
  {
   "cell_type": "code",
   "execution_count": 166,
   "metadata": {},
   "outputs": [
    {
     "data": {
      "image/png": "[encoded data removed]",
      "text/plain": [
       "<Figure size 432x288 with 1 Axes>"
      ]
     },
     "metadata": {
      "needs_background": "light"
     },
     "output_type": "display_data"
    }
   ],
   "source": [
    "fig, ax = plt.subplots(1, 1)\n",
    "ax.plot(test_loss, label='Test Loss')\n",
    "ax.plot(train_loss, label='Train Loss')\n",
    "plt.legend()\n",
    "plt.show()"
   ]
  },
  {
   "cell_type": "code",
   "execution_count": 149,
   "metadata": {},
   "outputs": [
    {
     "data": {
      "text/plain": [
       "0.9819"
      ]
     },
     "execution_count": 149,
     "metadata": {},
     "output_type": "execute_result"
    }
   ],
   "source": [
    "test_acc[-1]"
   ]
  },
  {
   "cell_type": "code",
   "execution_count": 150,
   "metadata": {},
   "outputs": [
    {
     "data": {
      "text/plain": [
       "0.9989833333333333"
      ]
     },
     "execution_count": 150,
     "metadata": {},
     "output_type": "execute_result"
    }
   ],
   "source": [
    "train_acc[-1]"
   ]
  },
  {
   "cell_type": "code",
   "execution_count": null,
   "metadata": {},
   "outputs": [],
   "source": []
  }
 ],
 "metadata": {
  "kernelspec": {
   "display_name": "Python 3",
   "language": "python",
   "name": "python3"
  },
  "language_info": {
   "codemirror_mode": {
    "name": "ipython",
    "version": 3
   },
   "file_extension": ".py",
   "mimetype": "text/x-python",
   "name": "python",
   "nbconvert_exporter": "python",
   "pygments_lexer": "ipython3",
   "version": "3.7.3"
  }
 },
 "nbformat": 4,
 "nbformat_minor": 2
}
