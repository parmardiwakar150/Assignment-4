{
 "cells": [
  {
   "cell_type": "code",
   "execution_count": 426,
   "metadata": {},
   "outputs": [],
   "source": [
    "# Importing the libraries\n",
    "import numpy as np\n",
    "import matplotlib.pyplot as plt\n",
    "import idx2numpy"
   ]
  },
  {
   "cell_type": "code",
   "execution_count": 427,
   "metadata": {},
   "outputs": [],
   "source": [
    "# Loading the dataset\n",
    "train_images = idx2numpy.convert_from_file('train-images-idx3-ubyte')\n",
    "train_labels = idx2numpy.convert_from_file('train-labels-idx1-ubyte')\n",
    "test_images = idx2numpy.convert_from_file('t10k-images-idx3-ubyte')\n",
    "test_labels = idx2numpy.convert_from_file('t10k-labels-idx1-ubyte')"
   ]
  },
  {
   "cell_type": "code",
   "execution_count": 428,
   "metadata": {},
   "outputs": [
    {
     "data": {
      "image/png": "[encoded data removed]",
      "text/plain": [
       "<Figure size 576x576 with 2 Axes>"
      ]
     },
     "metadata": {
      "needs_background": "light"
     },
     "output_type": "display_data"
    }
   ],
   "source": [
    "# Plotting some of the images\n",
    "fig, ax = plt.subplots(2, 1, figsize=(8, 8))\n",
    "ax[0].imshow(train_images[0])\n",
    "ax[1].imshow(train_images[1])\n",
    "plt.show()"
   ]
  },
  {
   "cell_type": "code",
   "execution_count": 429,
   "metadata": {},
   "outputs": [],
   "source": [
    "# Converting images to 784 dimension vector and normalizing them\n",
    "train_images = train_images.reshape(train_images.shape[0], -1) / 255\n",
    "test_images = test_images.reshape(test_images.shape[0], -1) / 255"
   ]
  },
  {
   "cell_type": "code",
   "execution_count": 430,
   "metadata": {},
   "outputs": [],
   "source": [
    "X = train_images\n",
    "y = train_labels"
   ]
  },
  {
   "cell_type": "code",
   "execution_count": 431,
   "metadata": {},
   "outputs": [],
   "source": [
    "# Defining the architecture of neural Network\n",
    "n_x = train_images.shape[1]\n",
    "n_h = 256\n",
    "n_y = 10"
   ]
  },
  {
   "cell_type": "code",
   "execution_count": 432,
   "metadata": {},
   "outputs": [],
   "source": [
    "# Initializing the pararmeters\n",
    "W1 = 0.01 * np.random.randn(n_x, n_h)\n",
    "b1 = np.ones((1, n_h)) * 0.01\n",
    "W2 = 0.01 * np.random.randn(n_h, n_y)\n",
    "b2 = np.ones((1, n_y)) * 0.01"
   ]
  },
  {
   "cell_type": "code",
   "execution_count": 433,
   "metadata": {},
   "outputs": [],
   "source": [
    "# ReLU Activation function\n",
    "def ReLU(x):\n",
    "    return np.maximum(x, 0)"
   ]
  },
  {
   "cell_type": "code",
   "execution_count": 434,
   "metadata": {},
   "outputs": [],
   "source": [
    "# Forward propagation\n",
    "Z1 = X.dot(W1) + b1\n",
    "A1 = ReLU(Z1)\n",
    "Z2 = A1.dot(W2) + b2\n",
    "yhat = np.exp(Z2) / np.sum(np.exp(Z2), axis=1, keepdims=True)"
   ]
  },
  {
   "cell_type": "code",
   "execution_count": 435,
   "metadata": {},
   "outputs": [],
   "source": [
    "m = X.shape[0]"
   ]
  },
  {
   "cell_type": "code",
   "execution_count": 436,
   "metadata": {},
   "outputs": [],
   "source": [
    "# Cross Entropy Loss\n",
    "loss = np.mean(-np.log(yhat[range(m), y]))"
   ]
  },
  {
   "cell_type": "code",
   "execution_count": 437,
   "metadata": {},
   "outputs": [
    {
     "data": {
      "text/plain": [
       "2.303597409871062"
      ]
     },
     "execution_count": 437,
     "metadata": {},
     "output_type": "execute_result"
    }
   ],
   "source": [
    "loss"
   ]
  },
  {
   "cell_type": "code",
   "execution_count": 438,
   "metadata": {},
   "outputs": [],
   "source": [
    "# Backpropagation\n",
    "dZ2 = yhat\n",
    "dZ2[range(m),y] -= 1\n",
    "dZ2 = dZ2 / m\n",
    "dW2 = A1.T.dot(dZ2)\n",
    "db2 = np.sum(dZ2, axis=0, keepdims=True)\n",
    "dZ1 = dZ2.dot(W2.T)\n",
    "dZ1[dZ1 <= 0] = 0\n",
    "dW1 = X.T.dot(dZ1)\n",
    "db1 = np.sum(dZ1, axis=0, keepdims=True)"
   ]
  },
  {
   "cell_type": "markdown",
   "metadata": {},
   "source": [
    "# Using DropOut Regularization"
   ]
  },
  {
   "cell_type": "code",
   "execution_count": 423,
   "metadata": {},
   "outputs": [
    {
     "name": "stdout",
     "output_type": "stream",
     "text": [
      "Epoch: 0 \t Training Acc: 0.6469 \t Test Acc: 0.7947\n",
      "Epoch: 10 \t Training Acc: 0.9107 \t Test Acc: 0.9189\n",
      "Epoch: 20 \t Training Acc: 0.9256 \t Test Acc: 0.9339\n",
      "Epoch: 30 \t Training Acc: 0.9343 \t Test Acc: 0.9451\n",
      "Epoch: 40 \t Training Acc: 0.9419 \t Test Acc: 0.9523\n",
      "Epoch: 50 \t Training Acc: 0.9477 \t Test Acc: 0.9586\n",
      "Epoch: 60 \t Training Acc: 0.9502 \t Test Acc: 0.9628\n",
      "Epoch: 70 \t Training Acc: 0.9539 \t Test Acc: 0.9649\n",
      "Epoch: 80 \t Training Acc: 0.9561 \t Test Acc: 0.9673\n",
      "Epoch: 90 \t Training Acc: 0.9578 \t Test Acc: 0.9685\n",
      "Epoch: 100 \t Training Acc: 0.9594 \t Test Acc: 0.9698\n",
      "Epoch: 110 \t Training Acc: 0.9627 \t Test Acc: 0.9708\n",
      "Epoch: 120 \t Training Acc: 0.9626 \t Test Acc: 0.9713\n",
      "Epoch: 130 \t Training Acc: 0.9637 \t Test Acc: 0.9719\n",
      "Epoch: 140 \t Training Acc: 0.9652 \t Test Acc: 0.9730\n",
      "Epoch: 150 \t Training Acc: 0.9649 \t Test Acc: 0.9737\n",
      "Epoch: 160 \t Training Acc: 0.9658 \t Test Acc: 0.9738\n",
      "Epoch: 170 \t Training Acc: 0.9659 \t Test Acc: 0.9748\n",
      "Epoch: 180 \t Training Acc: 0.9670 \t Test Acc: 0.9755\n",
      "Epoch: 190 \t Training Acc: 0.9667 \t Test Acc: 0.9759\n",
      "Epoch: 200 \t Training Acc: 0.9675 \t Test Acc: 0.9760\n",
      "Epoch: 210 \t Training Acc: 0.9677 \t Test Acc: 0.9758\n",
      "Epoch: 220 \t Training Acc: 0.9680 \t Test Acc: 0.9762\n",
      "Epoch: 230 \t Training Acc: 0.9685 \t Test Acc: 0.9764\n",
      "Epoch: 240 \t Training Acc: 0.9688 \t Test Acc: 0.9768\n"
     ]
    }
   ],
   "source": [
    "# Update the paramteres\n",
    "batch_size = 64\n",
    "n_epochs = 250\n",
    "learning_rate = 1e-2\n",
    "train_loss = []\n",
    "test_loss = []\n",
    "test_acc = []\n",
    "train_acc = []\n",
    "keep_prob = 0.7\n",
    "number_of_batches = m // batch_size\n",
    "for epoch in range(n_epochs):\n",
    "    loss = 0.0\n",
    "    correct_cnt = 0\n",
    "    for i in range(0, m - m % batch_size, batch_size):\n",
    "        X = train_images[i: i + batch_size]\n",
    "        y = train_labels[i: i + batch_size]\n",
    "        # Forward propagation\n",
    "        Z1 = X.dot(W1) + b1\n",
    "        A1 = np.tanh(Z1)\n",
    "        # DropOut\n",
    "        dropout_mask = np.random.uniform(size=A1.shape)\n",
    "        dropout_mask = dropout_mask <= keep_prob\n",
    "        A1 = A1 * dropout_mask\n",
    "        A1 /= keep_prob\n",
    "        Z2 = A1.dot(W2) + b2\n",
    "        yhat = np.exp(Z2) / np.sum(np.exp(Z2), axis=1, keepdims=True)\n",
    "        # Cross Entropy Loss\n",
    "        loss += np.mean(-np.log(yhat[range(X.shape[0]), y]))\n",
    "        correct_cnt += np.sum(np.argmax(yhat, axis=1) == y)\n",
    "        # Backpropagation\n",
    "        dZ2 = yhat\n",
    "        dZ2[range(i % batch_size, (i % batch_size + batch_size)), y] -= 1\n",
    "        dZ2 = dZ2 / batch_size\n",
    "        dW2 = A1.T.dot(dZ2)\n",
    "        db2 = np.sum(dZ2, axis=0, keepdims=True)\n",
    "        dZ1 = dZ2.dot(W2.T) * (1 - A1 ** 2)\n",
    "        dZ1 = dZ1 * dropout_mask\n",
    "        dW1 = X.T.dot(dZ1)\n",
    "        db1 = np.sum(dZ1, axis=0, keepdims=True)\n",
    "        # Update\n",
    "        W2 -= learning_rate * dW2\n",
    "        b2 -= learning_rate * db2\n",
    "        W1 -= learning_rate * dW1\n",
    "        b1 -= learning_rate * db1\n",
    "    loss_train = loss / number_of_batches\n",
    "    train_accuracy = correct_cnt / m\n",
    "    train_acc.append(train_accuracy)\n",
    "    train_loss.append(loss_train)\n",
    "    X = test_images\n",
    "    Z1 = X.dot(W1) + b1\n",
    "    A1 = np.tanh(Z1)\n",
    "    Z2 = A1.dot(W2) + b2\n",
    "    yhat = np.exp(Z2) / np.sum(np.exp(Z2), axis=1, keepdims=True)\n",
    "    # Cross Entropy Loss\n",
    "    loss_test = np.mean(-np.log(yhat[range(X.shape[0]), test_labels]))\n",
    "    test_loss.append(loss_test)\n",
    "    test_correct_cnt = np.sum(np.argmax(yhat, axis=1) == test_labels)\n",
    "    test_accuracy = test_correct_cnt / len(test_labels)\n",
    "    test_acc.append(test_accuracy)\n",
    "    if epoch % 10 == 0:\n",
    "        print(f'Epoch: {epoch} \\t Training Acc: {train_accuracy:.4f} \\t Test Acc: {test_accuracy:.4f}')"
   ]
  },
  {
   "cell_type": "code",
   "execution_count": 424,
   "metadata": {},
   "outputs": [
    {
     "data": {
      "image/png": "[encoded data removed]",
      "text/plain": [
       "<Figure size 432x288 with 1 Axes>"
      ]
     },
     "metadata": {
      "needs_background": "light"
     },
     "output_type": "display_data"
    }
   ],
   "source": [
    "fig, ax = plt.subplots(1, 1)\n",
    "ax.plot(test_acc, label='Test Accuracy')\n",
    "ax.plot(train_acc, label='Train Accuracy')\n",
    "plt.legend()\n",
    "plt.show()"
   ]
  },
  {
   "cell_type": "code",
   "execution_count": 425,
   "metadata": {},
   "outputs": [
    {
     "data": {
      "image/png": "[encoded data removed]",
      "text/plain": [
       "<Figure size 432x288 with 1 Axes>"
      ]
     },
     "metadata": {
      "needs_background": "light"
     },
     "output_type": "display_data"
    }
   ],
   "source": [
    "fig, ax = plt.subplots(1, 1)\n",
    "ax.plot(test_loss, label='Test Loss')\n",
    "ax.plot(train_loss, label='Train Loss')\n",
    "plt.legend()\n",
    "plt.show()"
   ]
  },
  {
   "cell_type": "markdown",
   "metadata": {},
   "source": [
    "# Without DropOut Regularization"
   ]
  },
  {
   "cell_type": "code",
   "execution_count": 439,
   "metadata": {},
   "outputs": [
    {
     "name": "stdout",
     "output_type": "stream",
     "text": [
      "Epoch: 0 \t Training Acc: 0.6911 \t Test Acc: 0.8180\n",
      "Epoch: 10 \t Training Acc: 0.9170 \t Test Acc: 0.9224\n",
      "Epoch: 20 \t Training Acc: 0.9317 \t Test Acc: 0.9342\n",
      "Epoch: 30 \t Training Acc: 0.9446 \t Test Acc: 0.9447\n",
      "Epoch: 40 \t Training Acc: 0.9534 \t Test Acc: 0.9525\n",
      "Epoch: 50 \t Training Acc: 0.9602 \t Test Acc: 0.9572\n",
      "Epoch: 60 \t Training Acc: 0.9658 \t Test Acc: 0.9612\n",
      "Epoch: 70 \t Training Acc: 0.9701 \t Test Acc: 0.9652\n",
      "Epoch: 80 \t Training Acc: 0.9736 \t Test Acc: 0.9675\n",
      "Epoch: 90 \t Training Acc: 0.9761 \t Test Acc: 0.9695\n",
      "Epoch: 100 \t Training Acc: 0.9787 \t Test Acc: 0.9707\n",
      "Epoch: 110 \t Training Acc: 0.9809 \t Test Acc: 0.9716\n",
      "Epoch: 120 \t Training Acc: 0.9830 \t Test Acc: 0.9737\n",
      "Epoch: 130 \t Training Acc: 0.9846 \t Test Acc: 0.9746\n",
      "Epoch: 140 \t Training Acc: 0.9859 \t Test Acc: 0.9761\n",
      "Epoch: 150 \t Training Acc: 0.9871 \t Test Acc: 0.9764\n",
      "Epoch: 160 \t Training Acc: 0.9882 \t Test Acc: 0.9771\n",
      "Epoch: 170 \t Training Acc: 0.9895 \t Test Acc: 0.9775\n",
      "Epoch: 180 \t Training Acc: 0.9906 \t Test Acc: 0.9783\n",
      "Epoch: 190 \t Training Acc: 0.9913 \t Test Acc: 0.9792\n",
      "Epoch: 200 \t Training Acc: 0.9922 \t Test Acc: 0.9792\n",
      "Epoch: 210 \t Training Acc: 0.9930 \t Test Acc: 0.9794\n",
      "Epoch: 220 \t Training Acc: 0.9938 \t Test Acc: 0.9798\n",
      "Epoch: 230 \t Training Acc: 0.9944 \t Test Acc: 0.9797\n",
      "Epoch: 240 \t Training Acc: 0.9950 \t Test Acc: 0.9801\n",
      "Epoch: 250 \t Training Acc: 0.9956 \t Test Acc: 0.9801\n",
      "Epoch: 260 \t Training Acc: 0.9960 \t Test Acc: 0.9806\n",
      "Epoch: 270 \t Training Acc: 0.9964 \t Test Acc: 0.9808\n",
      "Epoch: 280 \t Training Acc: 0.9969 \t Test Acc: 0.9807\n",
      "Epoch: 290 \t Training Acc: 0.9971 \t Test Acc: 0.9809\n",
      "Epoch: 300 \t Training Acc: 0.9974 \t Test Acc: 0.9810\n",
      "Epoch: 310 \t Training Acc: 0.9977 \t Test Acc: 0.9811\n",
      "Epoch: 320 \t Training Acc: 0.9980 \t Test Acc: 0.9810\n",
      "Epoch: 330 \t Training Acc: 0.9982 \t Test Acc: 0.9810\n",
      "Epoch: 340 \t Training Acc: 0.9984 \t Test Acc: 0.9809\n",
      "Epoch: 350 \t Training Acc: 0.9985 \t Test Acc: 0.9811\n",
      "Epoch: 360 \t Training Acc: 0.9986 \t Test Acc: 0.9812\n",
      "Epoch: 370 \t Training Acc: 0.9986 \t Test Acc: 0.9812\n",
      "Epoch: 380 \t Training Acc: 0.9987 \t Test Acc: 0.9813\n",
      "Epoch: 390 \t Training Acc: 0.9988 \t Test Acc: 0.9813\n",
      "Epoch: 400 \t Training Acc: 0.9989 \t Test Acc: 0.9815\n",
      "Epoch: 410 \t Training Acc: 0.9989 \t Test Acc: 0.9815\n",
      "Epoch: 420 \t Training Acc: 0.9989 \t Test Acc: 0.9815\n",
      "Epoch: 430 \t Training Acc: 0.9990 \t Test Acc: 0.9815\n",
      "Epoch: 440 \t Training Acc: 0.9990 \t Test Acc: 0.9814\n",
      "Epoch: 450 \t Training Acc: 0.9990 \t Test Acc: 0.9816\n",
      "Epoch: 460 \t Training Acc: 0.9990 \t Test Acc: 0.9816\n",
      "Epoch: 470 \t Training Acc: 0.9991 \t Test Acc: 0.9817\n",
      "Epoch: 480 \t Training Acc: 0.9992 \t Test Acc: 0.9816\n",
      "Epoch: 490 \t Training Acc: 0.9992 \t Test Acc: 0.9815\n"
     ]
    }
   ],
   "source": [
    "# Update the paramteres\n",
    "batch_size = 64\n",
    "n_epochs = 500\n",
    "learning_rate = 1e-2\n",
    "train_loss = []\n",
    "test_loss = []\n",
    "test_acc = []\n",
    "train_acc = []\n",
    "keep_prob = 1.0\n",
    "number_of_batches = m // batch_size\n",
    "for epoch in range(n_epochs):\n",
    "    loss = 0.0\n",
    "    correct_cnt = 0\n",
    "    for i in range(0, m - m % batch_size, batch_size):\n",
    "        X = train_images[i: i + batch_size]\n",
    "        y = train_labels[i: i + batch_size]\n",
    "        # Forward propagation\n",
    "        Z1 = X.dot(W1) + b1\n",
    "        A1 = np.tanh(Z1)\n",
    "        # DropOut\n",
    "        dropout_mask = np.random.uniform(size=A1.shape)\n",
    "        dropout_mask = dropout_mask <= keep_prob\n",
    "        A1 = A1 * dropout_mask\n",
    "        A1 /= keep_prob\n",
    "        Z2 = A1.dot(W2) + b2\n",
    "        yhat = np.exp(Z2) / np.sum(np.exp(Z2), axis=1, keepdims=True)\n",
    "        # Cross Entropy Loss\n",
    "        loss += np.mean(-np.log(yhat[range(X.shape[0]), y]))\n",
    "        correct_cnt += np.sum(np.argmax(yhat, axis=1) == y)\n",
    "        # Backpropagation\n",
    "        dZ2 = yhat\n",
    "        dZ2[range(i % batch_size, (i % batch_size + batch_size)), y] -= 1\n",
    "        dZ2 = dZ2 / batch_size\n",
    "        dW2 = A1.T.dot(dZ2)\n",
    "        db2 = np.sum(dZ2, axis=0, keepdims=True)\n",
    "        dZ1 = dZ2.dot(W2.T) * (1 - A1 ** 2)\n",
    "        dZ1 = dZ1 * dropout_mask\n",
    "        dW1 = X.T.dot(dZ1)\n",
    "        db1 = np.sum(dZ1, axis=0, keepdims=True)\n",
    "        # Update\n",
    "        W2 -= learning_rate * dW2\n",
    "        b2 -= learning_rate * db2\n",
    "        W1 -= learning_rate * dW1\n",
    "        b1 -= learning_rate * db1\n",
    "    loss_train = loss / number_of_batches\n",
    "    train_accuracy = correct_cnt / m\n",
    "    train_acc.append(train_accuracy)\n",
    "    train_loss.append(loss_train)\n",
    "    X = test_images\n",
    "    Z1 = X.dot(W1) + b1\n",
    "    A1 = np.tanh(Z1)\n",
    "    Z2 = A1.dot(W2) + b2\n",
    "    yhat = np.exp(Z2) / np.sum(np.exp(Z2), axis=1, keepdims=True)\n",
    "    # Cross Entropy Loss\n",
    "    loss_test = np.mean(-np.log(yhat[range(X.shape[0]), test_labels]))\n",
    "    test_loss.append(loss_test)\n",
    "    test_correct_cnt = np.sum(np.argmax(yhat, axis=1) == test_labels)\n",
    "    test_accuracy = test_correct_cnt / len(test_labels)\n",
    "    test_acc.append(test_accuracy)\n",
    "    if epoch % 10 == 0:\n",
    "        print(f'Epoch: {epoch} \\t Training Acc: {train_accuracy:.4f} \\t Test Acc: {test_accuracy:.4f}')"
   ]
  },
  {
   "cell_type": "code",
   "execution_count": 440,
   "metadata": {},
   "outputs": [
    {
     "data": {
      "image/png": "[encoded data removed]",
      "text/plain": [
       "<Figure size 432x288 with 1 Axes>"
      ]
     },
     "metadata": {
      "needs_background": "light"
     },
     "output_type": "display_data"
    }
   ],
   "source": [
    "fig, ax = plt.subplots(1, 1)\n",
    "ax.plot(test_acc, label='Test Accuracy')\n",
    "ax.plot(train_acc, label='Train Accuracy')\n",
    "plt.legend()\n",
    "plt.show()"
   ]
  },
  {
   "cell_type": "code",
   "execution_count": 441,
   "metadata": {},
   "outputs": [
    {
     "data": {
      "image/png": "[encoded data removed]",
      "text/plain": [
       "<Figure size 432x288 with 1 Axes>"
      ]
     },
     "metadata": {
      "needs_background": "light"
     },
     "output_type": "display_data"
    }
   ],
   "source": [
    "fig, ax = plt.subplots(1, 1)\n",
    "ax.plot(test_loss, label='Test Loss')\n",
    "ax.plot(train_loss, label='Train Loss')\n",
    "plt.legend()\n",
    "plt.show()"
   ]
  },
  {
   "cell_type": "code",
   "execution_count": 442,
   "metadata": {},
   "outputs": [
    {
     "data": {
      "text/plain": [
       "0.9992"
      ]
     },
     "execution_count": 442,
     "metadata": {},
     "output_type": "execute_result"
    }
   ],
   "source": [
    "train_acc[-1]"
   ]
  },
  {
   "cell_type": "code",
   "execution_count": 381,
   "metadata": {},
   "outputs": [
    {
     "data": {
      "text/plain": [
       "0.9812"
      ]
     },
     "execution_count": 381,
     "metadata": {},
     "output_type": "execute_result"
    }
   ],
   "source": [
    "test_acc[-1]"
   ]
  },
  {
   "cell_type": "code",
   "execution_count": null,
   "metadata": {},
   "outputs": [],
   "source": []
  }
 ],
 "metadata": {
  "kernelspec": {
   "display_name": "Python 3",
   "language": "python",
   "name": "python3"
  },
  "language_info": {
   "codemirror_mode": {
    "name": "ipython",
    "version": 3
   },
   "file_extension": ".py",
   "mimetype": "text/x-python",
   "name": "python",
   "nbconvert_exporter": "python",
   "pygments_lexer": "ipython3",
   "version": "3.7.3"
  }
 },
 "nbformat": 4,
 "nbformat_minor": 2
}
